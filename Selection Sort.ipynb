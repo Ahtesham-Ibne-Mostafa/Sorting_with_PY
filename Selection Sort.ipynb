{
 "cells": [
  {
   "cell_type": "code",
   "execution_count": 1,
   "metadata": {},
   "outputs": [
    {
     "name": "stdout",
     "output_type": "stream",
     "text": [
      "Before Sorting: [17, 3, 9, 21, 2]\n",
      "After Sorting: [2, 3, 9, 17, 21]\n"
     ]
    }
   ],
   "source": [
    "+numbers = [17, 3, 9, 21, 2]\n",
    "print(\"Before Sorting:\", numbers)#size/length is = 5\n",
    "\n",
    "for index1 in range(0, len(numbers)-1): #0,1,2,3 (Iteration 4)\n",
    "    min_val = numbers[index1]\n",
    "    min_index = index1\n",
    "    #finding the minimum value from partition to rest of data\n",
    "    #partition/index is moving to right\n",
    "   \n",
    "    for index2 in range(index1+1, len(numbers)):\n",
    "         if numbers[index2] < min_val:\n",
    "               min_val = numbers[index2]\n",
    "               min_index = index2\n",
    "\n",
    "     #swapping partition's right value with the min value\n",
    "    temp =  min_val\n",
    "    numbers[min_index] =  numbers[index1]\n",
    "    numbers[index1] = temp\n",
    "\n",
    "print(\"After Sorting:\", numbers)"
   ]
  }
 ],
 "metadata": {
  "kernelspec": {
   "display_name": "Python 3.10.8 64-bit (microsoft store)",
   "language": "python",
   "name": "python3"
  },
  "language_info": {
   "codemirror_mode": {
    "name": "ipython",
    "version": 3
   },
   "file_extension": ".py",
   "mimetype": "text/x-python",
   "name": "python",
   "nbconvert_exporter": "python",
   "pygments_lexer": "ipython3",
   "version": "3.10.8"
  },
  "orig_nbformat": 4,
  "vscode": {
   "interpreter": {
    "hash": "efb25ee08ad69dead2ab5496ee0c8d86b1adbbae397278509c1aab5e90353b65"
   }
  }
 },
 "nbformat": 4,
 "nbformat_minor": 2
}
