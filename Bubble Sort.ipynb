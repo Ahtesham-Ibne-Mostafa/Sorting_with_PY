{
 "cells": [
  {
   "cell_type": "code",
   "execution_count": 1,
   "metadata": {},
   "outputs": [
    {
     "name": "stdout",
     "output_type": "stream",
     "text": [
      "Before Sorting: [17, 3, 9, 21, 2]\n",
      "After Sorting: [2, 3, 9, 17, 21]\n"
     ]
    }
   ],
   "source": [
    "numbers = [17, 3, 9, 21, 2] #size/length is = 5\n",
    "print(\"Before Sorting:\", numbers)\n",
    "\n",
    "for idx1 in range(0, len(numbers)-1): #0, 1, 2, 3 (Iteration 4)\n",
    "   \n",
    "    for idx2 in range(0, len(numbers)- idx1 - 1):\n",
    "    #5-0-1=4 , 5-1-1=3 , 5-2-1=2, 5-3-1=1\n",
    "\n",
    "             if (numbers[idx2] > numbers[idx2 + 1]):\n",
    "              #Swapping places\n",
    "              temp = numbers[idx2]\n",
    "              numbers[idx2] = numbers[idx2 + 1]\n",
    "              numbers[idx2 + 1] = temp\n",
    "\n",
    "print(\"After Sorting:\", numbers)"
   ]
  }
 ],
 "metadata": {
  "kernelspec": {
   "display_name": "Python 3.10.6 64-bit (windows store)",
   "language": "python",
   "name": "python3"
  },
  "language_info": {
   "codemirror_mode": {
    "name": "ipython",
    "version": 3
   },
   "file_extension": ".py",
   "mimetype": "text/x-python",
   "name": "python",
   "nbconvert_exporter": "python",
   "pygments_lexer": "ipython3",
   "version": "3.10.6"
  },
  "orig_nbformat": 4,
  "vscode": {
   "interpreter": {
    "hash": "efb25ee08ad69dead2ab5496ee0c8d86b1adbbae397278509c1aab5e90353b65"
   }
  }
 },
 "nbformat": 4,
 "nbformat_minor": 2
}
